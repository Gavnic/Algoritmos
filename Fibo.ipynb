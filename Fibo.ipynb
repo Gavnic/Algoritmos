{
 "cells": [
  {
   "cell_type": "code",
   "execution_count": null,
   "metadata": {
    "collapsed": true
   },
   "outputs": [],
   "source": [
    "import time\n",
    "import numpy as np\n",
    "import pylab as pl\n",
    "\n",
    "def fib(n):\n",
    "    a=0\n",
    "    b=1\n",
    "    if n==0 :\n",
    "        return 0\n",
    "    else :\n",
    "        for i in range(1,n):\n",
    "            a = b\n",
    "            b = a + b\n",
    "        return b\n",
    "\n",
    "dato=5000\n",
    "\n",
    "eje_X = []\n",
    "\n",
    "Inicial_Time = time.clock()\n",
    "\n",
    "for i in range(1, dato, 1):\n",
    "    resultado2 = fib(i)\n",
    "    Final_Time = time.clock()\n",
    "    eje_X.append(Final_Time - Inicial_Time)\n",
    "print(\"N=\", i, \"FibbIterativo(\", i, \")= \", resultado2, \"Tiempo\", Final_Time - Inicial_Time, \"Tiempo del proceso en segundos\")\n",
    "\n",
    "eje_Y = np.arange(1, dato, 1)\n",
    "pl.ylabel(\"Tiempo\")\n",
    "pl.xlabel(\"Numero\")\n",
    "pl.title(\"Tiempos Fibonacci\")\n",
    "\n",
    "pl.plot(eje_Y, eje_X)\n",
    "pl.show()\n"
   ]
  }
 ],
 "metadata": {
  "kernelspec": {
   "display_name": "Python 2",
   "language": "python",
   "name": "python2"
  },
  "language_info": {
   "codemirror_mode": {
    "name": "ipython",
    "version": 2
   },
   "file_extension": ".py",
   "mimetype": "text/x-python",
   "name": "python",
   "nbconvert_exporter": "python",
   "pygments_lexer": "ipython2",
   "version": "2.7.6"
  }
 },
 "nbformat": 4,
 "nbformat_minor": 0
}
