{
 "cells": [
  {
   "cell_type": "code",
   "execution_count": 1,
   "metadata": {},
   "outputs": [
    {
     "name": "stdout",
     "output_type": "stream",
     "text": [
      "Theoretical best time, 41\n",
      "Theoretical worst time,149.0\n",
      "Theoretical average time,95.0\n",
      "Experimenal best time, 41\n",
      "Experimenal worst time,149\n",
      "Experimenal average time,95.0\n"
     ]
    }
   ],
   "source": [
    "import itertools as it\n",
    "\n",
    "def factorial(n):\n",
    "    if n == 0:\n",
    "        return 1\n",
    "    else:\n",
    "        return n * factorial(n-1)\n",
    "\n",
    "def randomPerm(n):\n",
    "    v = []\n",
    "    arr_de_tdas_las_posibles_permutaciones = []\n",
    "    for i in range(n):\n",
    "        v.append(i)\n",
    "    arreglo = (list(it.permutations(v,n)))\n",
    "    for i in range(factorial(n)):\n",
    "        arr_de_tdas_las_posibles_permutaciones.append(list(arreglo[i]))\n",
    "    return arr_de_tdas_las_posibles_permutaciones\n",
    "\n",
    "def isortSteps(a):\n",
    "    v = []\n",
    "    for i in range(len(a)):\n",
    "        v.append(a[i])\n",
    "    steps = 0\n",
    "    for i in range(1, len(v)):\n",
    "        x = v[i]\n",
    "        j = i - 1\n",
    "        while (j > -1) and (v[j] > x):\n",
    "            v[j + 1] = v[j]\n",
    "            j = j - 1\n",
    "            steps += 3\n",
    "        steps += 1\n",
    "        v[j + 1] = x\n",
    "        steps += 4\n",
    "    steps += 1\n",
    "    return steps\n",
    "\n",
    "arr = []\n",
    "n = 9\n",
    "sum = 0\n",
    "min = n ** 3\n",
    "max = 0\n",
    "arr_de_tdas_las_posibles_permutaciones = randomPerm(n);\n",
    "for i in range(factorial(n)):\n",
    "    t = isortSteps(arr_de_tdas_las_posibles_permutaciones.pop())\n",
    "    arr.append(t)\n",
    "    if t < min :\n",
    "        min = t\n",
    "    if t > max :\n",
    "        max = t\n",
    "    sum = sum + t\n",
    "print ('Theoretical best time, ' + str(5*n - 4) )\n",
    "print ('Theoretical worst time,' + str((3.0/2.0)*n**2 + (7.0/2.0)*n - 4))\n",
    "print ('Theoretical average time,' + str((3.0/4.0)*n**2 + (17.0/4.0)*n - 4))\n",
    "print ('Experimenal best time, ' + str(min))\n",
    "print ('Experimenal worst time,' + str(max))\n",
    "print ('Experimenal average time,' + str(sum/factorial(n)))\n",
    "\n",
    "\n"
   ]
  },
  {
   "cell_type": "code",
   "execution_count": 2,
   "metadata": {},
   "outputs": [
    {
     "data": {
      "text/plain": [
       "<matplotlib.figure.Figure at 0x1b312c0a630>"
      ]
     },
     "metadata": {},
     "output_type": "display_data"
    }
   ],
   "source": [
    "import numpy as np\n",
    "import matplotlib.pyplot as plt\n",
    "\n",
    "numero = np.zeros(factorial(n))\n",
    "for i in range(factorial(n)):\n",
    "    numero[i] = i\n",
    "\n",
    "## Graficas \n",
    "\n",
    "plt.plot(numero, arr, 'b^')\n",
    "plt.ylabel('#de movimientos')\n",
    "plt.xlabel('n')\n",
    "plt.show()"
   ]
  },
  {
   "cell_type": "code",
   "execution_count": null,
   "metadata": {},
   "outputs": [],
   "source": []
  }
 ],
 "metadata": {
  "kernelspec": {
   "display_name": "Python 3",
   "language": "python",
   "name": "python3"
  },
  "language_info": {
   "codemirror_mode": {
    "name": "ipython",
    "version": 3
   },
   "file_extension": ".py",
   "mimetype": "text/x-python",
   "name": "python",
   "nbconvert_exporter": "python",
   "pygments_lexer": "ipython3",
   "version": "3.6.4"
  }
 },
 "nbformat": 4,
 "nbformat_minor": 1
}
