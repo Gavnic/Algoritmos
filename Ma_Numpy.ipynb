{
 "cells": [
  {
   "cell_type": "code",
   "execution_count": null,
   "metadata": {
    "collapsed": true
   },
   "outputs": [],
   "source": [
    "import time\n",
    "import numpy as np\n",
    "import pylab as pl\n",
    "\n",
    "n = int(raw_input())\n",
    "\n",
    "lista2=[]\n",
    "for m in range(2,int(n)+1):\n",
    "    matrizA= np.full((m,m),1)\n",
    "    matrizB= np.full((m,m),2)\n",
    "    lista=[]\n",
    "    for i in range(10):\n",
    "            t0=time.clock()\n",
    "            np.dot(matrizA,matrizB)\n",
    "            tf=time.clock()\n",
    "            ca=(tf-t0)/(2*int(m)**3)\n",
    "            lista.append(ca)\n",
    "    avg=np.average(lista)\n",
    "    lista2.append(avg)\n",
    "\n",
    "rango = np.arange(1,int(n),1)\n",
    "pl.ylabel(\"y\")\n",
    "pl.xlabel('x')\n",
    "pl.plot(rango, lista2)\n",
    "pl.show()\n",
    "print lista2"
   ]
  }
 ],
 "metadata": {
  "kernelspec": {
   "display_name": "Python 2",
   "language": "python",
   "name": "python2"
  },
  "language_info": {
   "codemirror_mode": {
    "name": "ipython",
    "version": 2.0
   },
   "file_extension": ".py",
   "mimetype": "text/x-python",
   "name": "python",
   "nbconvert_exporter": "python",
   "pygments_lexer": "ipython2",
   "version": "2.7.6"
  }
 },
 "nbformat": 4,
 "nbformat_minor": 0
}